{
 "cells": [
  {
   "cell_type": "code",
   "execution_count": 16,
   "metadata": {},
   "outputs": [],
   "source": [
    "import pandas as pd\n",
    "import json \n"
   ]
  },
  {
   "cell_type": "code",
   "execution_count": 17,
   "metadata": {},
   "outputs": [],
   "source": [
    "df = pd.read_csv(r\"..\\data\\csv\\games.csv\")\n",
    "df_champs = pd.read_csv(r\"..\\data\\csv\\champ_file_2.csv\")"
   ]
  },
  {
   "cell_type": "code",
   "execution_count": 18,
   "metadata": {},
   "outputs": [
    {
     "data": {
      "text/plain": [
       "(51490, 61)"
      ]
     },
     "execution_count": 18,
     "metadata": {},
     "output_type": "execute_result"
    }
   ],
   "source": [
    "df.shape"
   ]
  },
  {
   "cell_type": "code",
   "execution_count": 19,
   "metadata": {},
   "outputs": [
    {
     "name": "stderr",
     "output_type": "stream",
     "text": [
      "C:\\Users\\natha\\AppData\\Local\\Temp/ipykernel_15480/2996704356.py:3: SettingWithCopyWarning: \n",
      "A value is trying to be set on a copy of a slice from a DataFrame\n",
      "\n",
      "See the caveats in the documentation: https://pandas.pydata.org/pandas-docs/stable/user_guide/indexing.html#returning-a-view-versus-a-copy\n",
      "  df[\"t1_champ2id\"][i] = df_champs[df_champs[\"id\"] == df[\"t1_champ2id\"][i]][\"name\"].values[0]\n",
      "C:\\Users\\natha\\AppData\\Local\\Temp/ipykernel_15480/2996704356.py:4: SettingWithCopyWarning: \n",
      "A value is trying to be set on a copy of a slice from a DataFrame\n",
      "\n",
      "See the caveats in the documentation: https://pandas.pydata.org/pandas-docs/stable/user_guide/indexing.html#returning-a-view-versus-a-copy\n",
      "  df[\"t1_champ3id\"][i] = df_champs[df_champs[\"id\"] == df[\"t1_champ3id\"][i]][\"name\"].values[0]\n",
      "C:\\Users\\natha\\AppData\\Local\\Temp/ipykernel_15480/2996704356.py:5: SettingWithCopyWarning: \n",
      "A value is trying to be set on a copy of a slice from a DataFrame\n",
      "\n",
      "See the caveats in the documentation: https://pandas.pydata.org/pandas-docs/stable/user_guide/indexing.html#returning-a-view-versus-a-copy\n",
      "  df[\"t1_champ4id\"][i] = df_champs[df_champs[\"id\"] == df[\"t1_champ4id\"][i]][\"name\"].values[0]\n",
      "C:\\Users\\natha\\AppData\\Local\\Temp/ipykernel_15480/2996704356.py:6: SettingWithCopyWarning: \n",
      "A value is trying to be set on a copy of a slice from a DataFrame\n",
      "\n",
      "See the caveats in the documentation: https://pandas.pydata.org/pandas-docs/stable/user_guide/indexing.html#returning-a-view-versus-a-copy\n",
      "  df[\"t1_champ5id\"][i] = df_champs[df_champs[\"id\"] == df[\"t1_champ5id\"][i]][\"name\"].values[0]\n",
      "C:\\Users\\natha\\AppData\\Local\\Temp/ipykernel_15480/2996704356.py:7: SettingWithCopyWarning: \n",
      "A value is trying to be set on a copy of a slice from a DataFrame\n",
      "\n",
      "See the caveats in the documentation: https://pandas.pydata.org/pandas-docs/stable/user_guide/indexing.html#returning-a-view-versus-a-copy\n",
      "  df[\"t2_champ1id\"][i] = df_champs[df_champs[\"id\"] == df[\"t2_champ1id\"][i]][\"name\"].values[0]\n",
      "C:\\Users\\natha\\AppData\\Local\\Temp/ipykernel_15480/2996704356.py:8: SettingWithCopyWarning: \n",
      "A value is trying to be set on a copy of a slice from a DataFrame\n",
      "\n",
      "See the caveats in the documentation: https://pandas.pydata.org/pandas-docs/stable/user_guide/indexing.html#returning-a-view-versus-a-copy\n",
      "  df[\"t2_champ2id\"][i] = df_champs[df_champs[\"id\"] == df[\"t2_champ2id\"][i]][\"name\"].values[0]\n",
      "C:\\Users\\natha\\AppData\\Local\\Temp/ipykernel_15480/2996704356.py:9: SettingWithCopyWarning: \n",
      "A value is trying to be set on a copy of a slice from a DataFrame\n",
      "\n",
      "See the caveats in the documentation: https://pandas.pydata.org/pandas-docs/stable/user_guide/indexing.html#returning-a-view-versus-a-copy\n",
      "  df[\"t2_champ3id\"][i] = df_champs[df_champs[\"id\"] == df[\"t2_champ3id\"][i]][\"name\"].values[0]\n",
      "C:\\Users\\natha\\AppData\\Local\\Temp/ipykernel_15480/2996704356.py:10: SettingWithCopyWarning: \n",
      "A value is trying to be set on a copy of a slice from a DataFrame\n",
      "\n",
      "See the caveats in the documentation: https://pandas.pydata.org/pandas-docs/stable/user_guide/indexing.html#returning-a-view-versus-a-copy\n",
      "  df[\"t2_champ4id\"][i] = df_champs[df_champs[\"id\"] == df[\"t2_champ4id\"][i]][\"name\"].values[0]\n",
      "C:\\Users\\natha\\AppData\\Local\\Temp/ipykernel_15480/2996704356.py:11: SettingWithCopyWarning: \n",
      "A value is trying to be set on a copy of a slice from a DataFrame\n",
      "\n",
      "See the caveats in the documentation: https://pandas.pydata.org/pandas-docs/stable/user_guide/indexing.html#returning-a-view-versus-a-copy\n",
      "  df[\"t2_champ5id\"][i] = df_champs[df_champs[\"id\"] == df[\"t2_champ5id\"][i]][\"name\"].values[0]\n"
     ]
    }
   ],
   "source": [
    "for i in range(51490):\n",
    "    df[\"t1_champ1id\"][i] = df_champs[df_champs[\"id\"] == df[\"t1_champ1id\"][i]][\"name\"].values[0]\n",
    "    df[\"t1_champ2id\"][i] = df_champs[df_champs[\"id\"] == df[\"t1_champ2id\"][i]][\"name\"].values[0]\n",
    "    df[\"t1_champ3id\"][i] = df_champs[df_champs[\"id\"] == df[\"t1_champ3id\"][i]][\"name\"].values[0]\n",
    "    df[\"t1_champ4id\"][i] = df_champs[df_champs[\"id\"] == df[\"t1_champ4id\"][i]][\"name\"].values[0]\n",
    "    df[\"t1_champ5id\"][i] = df_champs[df_champs[\"id\"] == df[\"t1_champ5id\"][i]][\"name\"].values[0]\n",
    "    df[\"t2_champ1id\"][i] = df_champs[df_champs[\"id\"] == df[\"t2_champ1id\"][i]][\"name\"].values[0]\n",
    "    df[\"t2_champ2id\"][i] = df_champs[df_champs[\"id\"] == df[\"t2_champ2id\"][i]][\"name\"].values[0]\n",
    "    df[\"t2_champ3id\"][i] = df_champs[df_champs[\"id\"] == df[\"t2_champ3id\"][i]][\"name\"].values[0]\n",
    "    df[\"t2_champ4id\"][i] = df_champs[df_champs[\"id\"] == df[\"t2_champ4id\"][i]][\"name\"].values[0]\n",
    "    df[\"t2_champ5id\"][i] = df_champs[df_champs[\"id\"] == df[\"t2_champ5id\"][i]][\"name\"].values[0]\n",
    "\n",
    "\n"
   ]
  },
  {
   "cell_type": "code",
   "execution_count": null,
   "metadata": {},
   "outputs": [],
   "source": [
    "df.to_csv(\"../data/finite/lol_games.csv\")"
   ]
  },
  {
   "cell_type": "code",
   "execution_count": null,
   "metadata": {},
   "outputs": [],
   "source": [
    "pd.options.display.max_rows = 4000\n"
   ]
  }
 ],
 "metadata": {
  "interpreter": {
   "hash": "c00e354c46a4eb9eb0722c0475a621df31706ee8932688eae84dcac8276e2406"
  },
  "kernelspec": {
   "display_name": "Python 3.10.1 64-bit (windows store)",
   "language": "python",
   "name": "python3"
  },
  "language_info": {
   "codemirror_mode": {
    "name": "ipython",
    "version": 3
   },
   "file_extension": ".py",
   "mimetype": "text/x-python",
   "name": "python",
   "nbconvert_exporter": "python",
   "pygments_lexer": "ipython3",
   "version": "3.10.1"
  },
  "orig_nbformat": 4
 },
 "nbformat": 4,
 "nbformat_minor": 2
}
