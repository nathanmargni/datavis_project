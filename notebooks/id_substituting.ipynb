{
 "cells": [
  {
   "cell_type": "code",
   "execution_count": 59,
   "metadata": {},
   "outputs": [],
   "source": [
    "import pandas as pd\n",
    "import json \n"
   ]
  },
  {
   "cell_type": "code",
   "execution_count": 60,
   "metadata": {},
   "outputs": [],
   "source": [
    "df = pd.read_csv(r\"..\\data\\csv\\games.csv\")\n",
    "df_champs = pd.read_csv(r\"..\\data\\csv\\champ_file_2.csv\")"
   ]
  },
  {
   "cell_type": "code",
   "execution_count": 61,
   "metadata": {},
   "outputs": [],
   "source": [
    "for row in df[1:100].iterrows():\n",
    "    row[1][\"t1_champ1id\"] = df_champs[df_champs[\"id\"] == row[1][\"t1_champ1id\"]][\"name\"]\n",
    "    "
   ]
  },
  {
   "cell_type": "code",
   "execution_count": 62,
   "metadata": {},
   "outputs": [
    {
     "data": {
      "text/plain": [
       "0          NaN\n",
       "1          NaN\n",
       "2          NaN\n",
       "3          NaN\n",
       "4          NaN\n",
       "         ...  \n",
       "51485     19.0\n",
       "51486     90.0\n",
       "51487    141.0\n",
       "51488    121.0\n",
       "51489     89.0\n",
       "Name: t1_champ1id, Length: 51490, dtype: float64"
      ]
     },
     "execution_count": 62,
     "metadata": {},
     "output_type": "execute_result"
    }
   ],
   "source": [
    "for i in range(100):\n",
    "    df[\"t1_champ1id\"][i] = df_champs.loc[df_champs[\"id\"] == df[\"t1_champ1id\"][i]][\"name\"]\n",
    "df[\"t1_champ1id\"]"
   ]
  },
  {
   "cell_type": "code",
   "execution_count": 63,
   "metadata": {},
   "outputs": [
    {
     "data": {
      "text/plain": [
       "0         ciso\n",
       "1          NaN\n",
       "2          NaN\n",
       "3          NaN\n",
       "4          NaN\n",
       "         ...  \n",
       "51485     19.0\n",
       "51486     90.0\n",
       "51487    141.0\n",
       "51488    121.0\n",
       "51489     89.0\n",
       "Name: t1_champ1id, Length: 51490, dtype: object"
      ]
     },
     "execution_count": 63,
     "metadata": {},
     "output_type": "execute_result"
    }
   ],
   "source": [
    "df[\"t1_champ1id\"][0] = \"ciso\"\n",
    "df[\"t1_champ1id\"]"
   ]
  },
  {
   "cell_type": "code",
   "execution_count": 64,
   "metadata": {},
   "outputs": [],
   "source": [
    "pd.options.display.max_rows = 4000\n"
   ]
  },
  {
   "cell_type": "code",
   "execution_count": 65,
   "metadata": {},
   "outputs": [
    {
     "data": {
      "text/plain": [
       "0         ciso\n",
       "1          NaN\n",
       "2          NaN\n",
       "3          NaN\n",
       "4          NaN\n",
       "         ...  \n",
       "51485     19.0\n",
       "51486     90.0\n",
       "51487    141.0\n",
       "51488    121.0\n",
       "51489     89.0\n",
       "Name: t1_champ1id, Length: 51490, dtype: object"
      ]
     },
     "execution_count": 65,
     "metadata": {},
     "output_type": "execute_result"
    }
   ],
   "source": [
    "df[\"t1_champ1id\"]"
   ]
  },
  {
   "cell_type": "code",
   "execution_count": 66,
   "metadata": {},
   "outputs": [
    {
     "name": "stdout",
     "output_type": "stream",
     "text": [
      "(0, gameId                   3326086514\n",
      "creationTime          1504279457970\n",
      "gameDuration                   1949\n",
      "seasonId                          9\n",
      "winner                            1\n",
      "firstBlood                        2\n",
      "firstTower                        1\n",
      "firstInhibitor                    1\n",
      "firstBaron                        1\n",
      "firstDragon                       1\n",
      "firstRiftHerald                   2\n",
      "t1_champ1id                    ciso\n",
      "t1_champ1_sum1                   12\n",
      "t1_champ1_sum2                    4\n",
      "t1_champ2id                     432\n",
      "t1_champ2_sum1                    3\n",
      "t1_champ2_sum2                    4\n",
      "t1_champ3id                      96\n",
      "t1_champ3_sum1                    4\n",
      "t1_champ3_sum2                    7\n",
      "t1_champ4id                      11\n",
      "t1_champ4_sum1                   11\n",
      "t1_champ4_sum2                    6\n",
      "t1_champ5id                     112\n",
      "t1_champ5_sum1                    4\n",
      "t1_champ5_sum2                   14\n",
      "t1_towerKills                    11\n",
      "t1_inhibitorKills                 1\n",
      "t1_baronKills                     2\n",
      "t1_dragonKills                    3\n",
      "t1_riftHeraldKills                0\n",
      "t1_ban1                          92\n",
      "t1_ban2                          40\n",
      "t1_ban3                          69\n",
      "t1_ban4                         119\n",
      "t1_ban5                         141\n",
      "t2_champ1id                     104\n",
      "t2_champ1_sum1                   11\n",
      "t2_champ1_sum2                    4\n",
      "t2_champ2id                     498\n",
      "t2_champ2_sum1                    4\n",
      "t2_champ2_sum2                    7\n",
      "t2_champ3id                     122\n",
      "t2_champ3_sum1                    6\n",
      "t2_champ3_sum2                    4\n",
      "t2_champ4id                     238\n",
      "t2_champ4_sum1                   14\n",
      "t2_champ4_sum2                    4\n",
      "t2_champ5id                     412\n",
      "t2_champ5_sum1                    4\n",
      "t2_champ5_sum2                    3\n",
      "t2_towerKills                     5\n",
      "t2_inhibitorKills                 0\n",
      "t2_baronKills                     0\n",
      "t2_dragonKills                    1\n",
      "t2_riftHeraldKills                1\n",
      "t2_ban1                         114\n",
      "t2_ban2                          67\n",
      "t2_ban3                          43\n",
      "t2_ban4                          16\n",
      "t2_ban5                          51\n",
      "Name: 0, dtype: object)\n"
     ]
    }
   ],
   "source": [
    "for row in df.iterrows():\n",
    "    print(row)\n",
    "    break"
   ]
  }
 ],
 "metadata": {
  "interpreter": {
   "hash": "c00e354c46a4eb9eb0722c0475a621df31706ee8932688eae84dcac8276e2406"
  },
  "kernelspec": {
   "display_name": "Python 3.10.1 64-bit (windows store)",
   "language": "python",
   "name": "python3"
  },
  "language_info": {
   "codemirror_mode": {
    "name": "ipython",
    "version": 3
   },
   "file_extension": ".py",
   "mimetype": "text/x-python",
   "name": "python",
   "nbconvert_exporter": "python",
   "pygments_lexer": "ipython3",
   "version": "3.10.1"
  },
  "orig_nbformat": 4
 },
 "nbformat": 4,
 "nbformat_minor": 2
}
